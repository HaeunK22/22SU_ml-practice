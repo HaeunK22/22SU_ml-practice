{
 "cells": [
  {
   "cell_type": "markdown",
   "metadata": {},
   "source": [
    "Build Neural Network"
   ]
  },
  {
   "cell_type": "code",
   "execution_count": 2,
   "metadata": {},
   "outputs": [],
   "source": [
    "import os\n",
    "import torch\n",
    "from torch import nn\n",
    "from torch.utils.data import DataLoader\n",
    "from torchvision import datasets, transforms"
   ]
  },
  {
   "cell_type": "code",
   "execution_count": 3,
   "metadata": {},
   "outputs": [
    {
     "name": "stdout",
     "output_type": "stream",
     "text": [
      "Using cuda device\n"
     ]
    }
   ],
   "source": [
    "device = \"cuda\" if torch.cuda.is_available() else \"cpu\"\n",
    "print(f\"Using {device} device\")"
   ]
  },
  {
   "cell_type": "code",
   "execution_count": 4,
   "metadata": {},
   "outputs": [],
   "source": [
    "class NeuralNetwork(nn.Module):\n",
    "    def __init__(self):\n",
    "        super(NeuralNetwork, self).__init__()\n",
    "        self.flatten = nn.Flatten()\n",
    "        self.linear_relu_stack = nn.Sequential(\n",
    "            nn.Linear(28*28,512),\n",
    "            nn.ReLU(),\n",
    "            nn.Linear(512,512),\n",
    "            nn.ReLU(),\n",
    "            nn.Linear(512,10),\n",
    "        )\n",
    "        \n",
    "    def forward(self, x):\n",
    "        x = self.flatten(x)\n",
    "        logits = self.linear_relu_stack(x)\n",
    "        return logits"
   ]
  },
  {
   "cell_type": "code",
   "execution_count": 5,
   "metadata": {},
   "outputs": [
    {
     "name": "stdout",
     "output_type": "stream",
     "text": [
      "NeuralNetwork(\n",
      "  (flatten): Flatten(start_dim=1, end_dim=-1)\n",
      "  (linear_relu_stack): Sequential(\n",
      "    (0): Linear(in_features=784, out_features=512, bias=True)\n",
      "    (1): ReLU()\n",
      "    (2): Linear(in_features=512, out_features=512, bias=True)\n",
      "    (3): ReLU()\n",
      "    (4): Linear(in_features=512, out_features=10, bias=True)\n",
      "  )\n",
      ")\n"
     ]
    }
   ],
   "source": [
    "model = NeuralNetwork().to(device)  #move neural network to device\n",
    "print(model)"
   ]
  },
  {
   "cell_type": "code",
   "execution_count": 9,
   "metadata": {},
   "outputs": [
    {
     "name": "stdout",
     "output_type": "stream",
     "text": [
      "Raw predicted values for each class: \n",
      "tensor([[-0.0036, -0.0067,  0.0759,  0.0762,  0.0630, -0.0329,  0.0357,  0.0758,\n",
      "          0.0508, -0.0323]], device='cuda:0', grad_fn=<AddmmBackward0>)\n",
      "\n",
      "After softmax: \n",
      "tensor([[0.0966, 0.0963, 0.1046, 0.1046, 0.1032, 0.0938, 0.1005, 0.1046, 0.1020,\n",
      "         0.0939]], device='cuda:0', grad_fn=<SoftmaxBackward0>)\n",
      "\n",
      "Predicted class: tensor([3], device='cuda:0')\n"
     ]
    }
   ],
   "source": [
    "X = torch.rand(1,28,28,device=device)   #random input\n",
    "logits = model(X)   #executes model.forward\n",
    "print(f\"Raw predicted values for each class: \\n{logits}\\n\")\n",
    "pred_probab = nn.Softmax(dim=1)(logits)\n",
    "print(f\"After softmax: \\n{pred_probab}\\n\")\n",
    "y_pred = pred_probab.argmax(1)\n",
    "print(f\"Predicted class: {y_pred}\")"
   ]
  },
  {
   "cell_type": "markdown",
   "metadata": {},
   "source": [
    "nn.Flatten : convert 28*28 image to 784 pixel values\n",
    "\n",
    "(Using minibatch of 3 images)"
   ]
  },
  {
   "cell_type": "code",
   "execution_count": 15,
   "metadata": {},
   "outputs": [
    {
     "name": "stdout",
     "output_type": "stream",
     "text": [
      "Before flatten: torch.Size([3, 28, 28])\n",
      "\n",
      "After flatten: torch.Size([3, 784])\n"
     ]
    }
   ],
   "source": [
    "input_image = torch.rand(3,28,28)\n",
    "print(f\"Before flatten: {input_image.size()}\\n\")\n",
    "\n",
    "flatten = nn.Flatten()\n",
    "flat_image = flatten(input_image)\n",
    "print(f\"After flatten: {flat_image.size()}\")"
   ]
  },
  {
   "cell_type": "markdown",
   "metadata": {},
   "source": [
    "nn.Linear"
   ]
  },
  {
   "cell_type": "code",
   "execution_count": 16,
   "metadata": {},
   "outputs": [
    {
     "name": "stdout",
     "output_type": "stream",
     "text": [
      "torch.Size([3, 20])\n"
     ]
    }
   ],
   "source": [
    "layer1 = nn.Linear(in_features=28*28, out_features=20)\n",
    "hidden1 = layer1(flat_image)\n",
    "print(hidden1.size())"
   ]
  },
  {
   "cell_type": "markdown",
   "metadata": {},
   "source": [
    "nn.ReLU (Non-linear)"
   ]
  },
  {
   "cell_type": "code",
   "execution_count": 17,
   "metadata": {},
   "outputs": [
    {
     "name": "stdout",
     "output_type": "stream",
     "text": [
      "Before ReLU: \n",
      "tensor([[ 0.2590, -0.3184, -0.0322, -0.6793, -0.2706, -0.1341, -0.2920,  0.4137,\n",
      "         -0.4050, -0.0821,  0.2271,  0.3237, -0.6645,  0.2777, -0.5085,  0.0731,\n",
      "          0.5503, -0.4521, -0.2857, -0.2812],\n",
      "        [ 0.3351,  0.0044, -0.0483, -0.3780, -0.2539, -0.2003, -0.0210,  0.3894,\n",
      "         -0.5235, -0.0826,  0.5889,  0.4377, -0.6859,  0.0795, -0.2018,  0.1436,\n",
      "          0.5974, -0.5946, -0.1074, -0.6460],\n",
      "        [ 0.4948, -0.0689, -0.3097, -0.0900, -0.3936, -0.0325,  0.2796,  0.4733,\n",
      "         -0.3402,  0.3389,  0.5762,  0.3602, -0.5914,  0.0902, -0.0584,  0.1232,\n",
      "          0.5258, -0.7994,  0.0625, -0.3169]], grad_fn=<AddmmBackward0>)\n",
      "\n",
      "\n",
      "After ReLU: \n",
      "tensor([[0.2590, 0.0000, 0.0000, 0.0000, 0.0000, 0.0000, 0.0000, 0.4137, 0.0000,\n",
      "         0.0000, 0.2271, 0.3237, 0.0000, 0.2777, 0.0000, 0.0731, 0.5503, 0.0000,\n",
      "         0.0000, 0.0000],\n",
      "        [0.3351, 0.0044, 0.0000, 0.0000, 0.0000, 0.0000, 0.0000, 0.3894, 0.0000,\n",
      "         0.0000, 0.5889, 0.4377, 0.0000, 0.0795, 0.0000, 0.1436, 0.5974, 0.0000,\n",
      "         0.0000, 0.0000],\n",
      "        [0.4948, 0.0000, 0.0000, 0.0000, 0.0000, 0.0000, 0.2796, 0.4733, 0.0000,\n",
      "         0.3389, 0.5762, 0.3602, 0.0000, 0.0902, 0.0000, 0.1232, 0.5258, 0.0000,\n",
      "         0.0625, 0.0000]], grad_fn=<ReluBackward0>)\n"
     ]
    }
   ],
   "source": [
    "print(f\"Before ReLU: \\n{hidden1}\\n\\n\")\n",
    "hidden1 = nn.ReLU()(hidden1)\n",
    "print(f\"After ReLU: \\n{hidden1}\")"
   ]
  },
  {
   "cell_type": "markdown",
   "metadata": {},
   "source": [
    "nn.Softmax : values [-infty,infty] are scaled to [0,1], which are the predicted probabilities for each class."
   ]
  },
  {
   "cell_type": "code",
   "execution_count": 19,
   "metadata": {},
   "outputs": [
    {
     "name": "stdout",
     "output_type": "stream",
     "text": [
      "tensor([[0.1011, 0.0835, 0.1170, 0.1349, 0.0840, 0.0874, 0.0828, 0.0796, 0.1011,\n",
      "         0.1287],\n",
      "        [0.1080, 0.0815, 0.1091, 0.1352, 0.0795, 0.0846, 0.0809, 0.0778, 0.1071,\n",
      "         0.1363],\n",
      "        [0.1073, 0.0995, 0.1005, 0.1217, 0.0811, 0.0938, 0.0884, 0.0890, 0.0929,\n",
      "         0.1257]], grad_fn=<SoftmaxBackward0>)\n"
     ]
    }
   ],
   "source": [
    "seq_modules = nn.Sequential(\n",
    "    flatten,\n",
    "    layer1,\n",
    "    nn.ReLU(),\n",
    "    nn.Linear(20, 10)\n",
    ")\n",
    "input_image = torch.rand(3,28,28)\n",
    "logits = seq_modules(input_image)   #raw values [-infty, infty]\n",
    "\n",
    "softmax = nn.Softmax(dim=1) #values along dimension1 must sum to 1\n",
    "pred_probab = softmax(logits)\n",
    "print(f\"{pred_probab}\")"
   ]
  },
  {
   "cell_type": "markdown",
   "metadata": {},
   "source": [
    "Access model parameters"
   ]
  },
  {
   "cell_type": "code",
   "execution_count": 22,
   "metadata": {},
   "outputs": [
    {
     "name": "stdout",
     "output_type": "stream",
     "text": [
      "Model structure: NeuralNetwork(\n",
      "  (flatten): Flatten(start_dim=1, end_dim=-1)\n",
      "  (linear_relu_stack): Sequential(\n",
      "    (0): Linear(in_features=784, out_features=512, bias=True)\n",
      "    (1): ReLU()\n",
      "    (2): Linear(in_features=512, out_features=512, bias=True)\n",
      "    (3): ReLU()\n",
      "    (4): Linear(in_features=512, out_features=10, bias=True)\n",
      "  )\n",
      ")\n",
      "\n",
      "\n",
      "Layer: linear_relu_stack.0.weight \n",
      "|-Size: torch.Size([512, 784]) \n",
      "|-Values: tensor([[-0.0102,  0.0032, -0.0306,  ...,  0.0256, -0.0049,  0.0313],\n",
      "        [ 0.0045,  0.0154,  0.0156,  ..., -0.0203, -0.0067,  0.0265]],\n",
      "       device='cuda:0', grad_fn=<SliceBackward0>) \n",
      "\n",
      "Layer: linear_relu_stack.0.bias \n",
      "|-Size: torch.Size([512]) \n",
      "|-Values: tensor([-0.0320, -0.0102], device='cuda:0', grad_fn=<SliceBackward0>) \n",
      "\n",
      "Layer: linear_relu_stack.2.weight \n",
      "|-Size: torch.Size([512, 512]) \n",
      "|-Values: tensor([[-0.0005, -0.0153, -0.0317,  ..., -0.0086,  0.0005,  0.0265],\n",
      "        [-0.0272,  0.0019,  0.0071,  ..., -0.0181,  0.0241,  0.0366]],\n",
      "       device='cuda:0', grad_fn=<SliceBackward0>) \n",
      "\n",
      "Layer: linear_relu_stack.2.bias \n",
      "|-Size: torch.Size([512]) \n",
      "|-Values: tensor([-0.0294,  0.0252], device='cuda:0', grad_fn=<SliceBackward0>) \n",
      "\n",
      "Layer: linear_relu_stack.4.weight \n",
      "|-Size: torch.Size([10, 512]) \n",
      "|-Values: tensor([[ 0.0375, -0.0061, -0.0333,  ..., -0.0009, -0.0052, -0.0250],\n",
      "        [ 0.0039, -0.0416, -0.0115,  ...,  0.0301, -0.0220,  0.0167]],\n",
      "       device='cuda:0', grad_fn=<SliceBackward0>) \n",
      "\n",
      "Layer: linear_relu_stack.4.bias \n",
      "|-Size: torch.Size([10]) \n",
      "|-Values: tensor([-0.0293,  0.0288], device='cuda:0', grad_fn=<SliceBackward0>) \n",
      "\n"
     ]
    }
   ],
   "source": [
    "print(f\"Model structure: {model}\\n\\n\")\n",
    "\n",
    "for name, param in model.named_parameters():\n",
    "    print(f\"Layer: {name} \\n|-Size: {param.size()} \\n|-Values: {param[:2]} \\n\")"
   ]
  }
 ],
 "metadata": {
  "kernelspec": {
   "display_name": "Python 3.10.4 ('hek')",
   "language": "python",
   "name": "python3"
  },
  "language_info": {
   "codemirror_mode": {
    "name": "ipython",
    "version": 3
   },
   "file_extension": ".py",
   "mimetype": "text/x-python",
   "name": "python",
   "nbconvert_exporter": "python",
   "pygments_lexer": "ipython3",
   "version": "3.10.4"
  },
  "orig_nbformat": 4,
  "vscode": {
   "interpreter": {
    "hash": "0491cbb347169b674faecc57483f555701d022daf991287b1e1cb5e40250a57a"
   }
  }
 },
 "nbformat": 4,
 "nbformat_minor": 2
}
