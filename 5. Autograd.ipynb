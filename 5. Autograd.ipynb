{
 "cells": [
  {
   "cell_type": "markdown",
   "metadata": {},
   "source": [
    "Autograd : automatic computation of gradient(differentiation) of loss function"
   ]
  },
  {
   "cell_type": "code",
   "execution_count": 5,
   "metadata": {},
   "outputs": [
    {
     "name": "stdout",
     "output_type": "stream",
     "text": [
      "Gradient function for z = <AddBackward0 object at 0x000001EA27A6B9D0>\n",
      "Gradient function for loss = <BinaryCrossEntropyWithLogitsBackward0 object at 0x000001EA27AAEC20>\n",
      "tensor([[0.0007, 0.3132, 0.0020],\n",
      "        [0.0007, 0.3132, 0.0020],\n",
      "        [0.0007, 0.3132, 0.0020],\n",
      "        [0.0007, 0.3132, 0.0020],\n",
      "        [0.0007, 0.3132, 0.0020]])\n",
      "tensor([0.0007, 0.3132, 0.0020])\n"
     ]
    }
   ],
   "source": [
    "import torch\n",
    "\n",
    "x = torch.ones(5)  # input tensor\n",
    "y = torch.zeros(3)  # expected output(answer)\n",
    "w = torch.randn(5, 3, requires_grad=True)   #parameter\n",
    "b = torch.randn(3, requires_grad=True)  #parameter\n",
    "z = torch.matmul(x, w)+b\n",
    "loss = torch.nn.functional.binary_cross_entropy_with_logits(z, y)\n",
    "\n",
    "print(f\"Gradient function for z = {z.grad_fn}\")\n",
    "print(f\"Gradient function for loss = {loss.grad_fn}\")\n",
    "\n",
    "loss.backward() #gradient calculation\n",
    "print(w.grad)\n",
    "print(b.grad)"
   ]
  },
  {
   "cell_type": "markdown",
   "metadata": {},
   "source": [
    "Disabling Gradient Tracking \n",
    "\n",
    "(ex. after we have trained the model and just want to apply it to some input data)"
   ]
  },
  {
   "cell_type": "code",
   "execution_count": 7,
   "metadata": {},
   "outputs": [
    {
     "name": "stdout",
     "output_type": "stream",
     "text": [
      "True\n",
      "False\n",
      "True\n",
      "False\n"
     ]
    }
   ],
   "source": [
    "z = torch.matmul(x, w) + b\n",
    "print(z.requires_grad)\n",
    "\n",
    "with torch.no_grad():   #stop tracking computations\n",
    "    z = torch.matmul(x, w) + b\n",
    "print(z.requires_grad)\n",
    "\n",
    "z = torch.matmul(x, w) + b\n",
    "print(z.requires_grad)\n",
    "z_det = z.detach()  #stop tracking computations\n",
    "print(z_det.requires_grad)"
   ]
  }
 ],
 "metadata": {
  "kernelspec": {
   "display_name": "Python 3.10.4 ('hek')",
   "language": "python",
   "name": "python3"
  },
  "language_info": {
   "codemirror_mode": {
    "name": "ipython",
    "version": 3
   },
   "file_extension": ".py",
   "mimetype": "text/x-python",
   "name": "python",
   "nbconvert_exporter": "python",
   "pygments_lexer": "ipython3",
   "version": "3.10.4"
  },
  "orig_nbformat": 4,
  "vscode": {
   "interpreter": {
    "hash": "0491cbb347169b674faecc57483f555701d022daf991287b1e1cb5e40250a57a"
   }
  }
 },
 "nbformat": 4,
 "nbformat_minor": 2
}
